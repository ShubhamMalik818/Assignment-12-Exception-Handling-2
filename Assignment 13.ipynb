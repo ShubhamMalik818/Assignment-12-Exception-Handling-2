{
 "cells": [
  {
   "cell_type": "code",
   "execution_count": null,
   "id": "cdff1f7a-8b6d-46d0-8876-9b545257508c",
   "metadata": {},
   "outputs": [],
   "source": [
    "1. Explain why we have to use the Exception class while creating a Custom Exception.\n",
    "    Note: Here Exception class refers to the base class for all the exceptions."
   ]
  },
  {
   "cell_type": "code",
   "execution_count": null,
   "id": "eff22769-ac99-4c6a-9847-f7d1dae95f77",
   "metadata": {},
   "outputs": [],
   "source": [
    "ANS- In Python, all exceptions are classes. When we raise an exception, we are creating an instance of that exception class. \n",
    "     Therefore, in order to create a custom exception, we need to define a new class that inherits from the built-in Exception class.\n",
    "     \n",
    "    Here are a few reasons why we need to use the Exception class while creating a custom exception:\n",
    "\n",
    "    1.Inheritance: The Exception class provides a basic implementation of an exception class, which we can inherit from to create our own \n",
    "      custom exception. By inheriting from the Exception class, we can leverage its functionality and customize it to meet our specific needs.\n",
    "    \n",
    "    2.Compatibility: By using the Exception class as the base class for our custom exception, we ensure that our custom exception will be \n",
    "      compatible with the rest of the Python exception hierarchy. This means that our exception can be caught by any code that catches \n",
    "        exceptions derived from Exception, making it easier to handle and debug errors in our code.\n",
    "\n",
    "    3.Standardization: The Exception class is a standardized way of defining exceptions in Python. By using it as the base class for \n",
    "      our custom exception, we are following established conventions and best practices for defining exceptions in Python.\n",
    "\n",
    "Overall, using the Exception class as the base class for our custom exception provides us with a solid foundation for creating and handling exceptions in our code, and ensures that our custom exception will be compatible with the rest of the Python exception hierarchy."
   ]
  },
  {
   "cell_type": "code",
   "execution_count": null,
   "id": "4d5284dd-5514-4f29-9a4a-e3f5d96c6314",
   "metadata": {},
   "outputs": [],
   "source": [
    "ANS- We would want to use a Custom Exception class for the following reasons:\n",
    "     1.To improve readability of your code.\n",
    "        2.To enhance reusability of features.\n",
    "          3.To provide custom messages/instructions to users for specific use cases.\n"
   ]
  },
  {
   "cell_type": "code",
   "execution_count": null,
   "id": "85e5a3b6-490a-4fdc-950f-501c5cd773b2",
   "metadata": {},
   "outputs": [],
   "source": [
    "2. Write a python program to print Python Exception Hierarchy."
   ]
  },
  {
   "cell_type": "code",
   "execution_count": null,
   "id": "2eccbbff-23b2-4602-948e-4f46ddbe96fc",
   "metadata": {},
   "outputs": [],
   "source": [
    "def print_exception_hierarchy(exception_class, indent=0):\n",
    "    print(\" \" * indent + exception_class.__name__)\n",
    "    for subclass in exception_class.__subclasses__():\n",
    "        print_exception_hierarchy(subclass, indent + 4)\n",
    "\n",
    "print_exception_hierarchy(BaseException)\n"
   ]
  },
  {
   "cell_type": "code",
   "execution_count": null,
   "id": "40736f27-4987-4612-bd6e-bdb0579728db",
   "metadata": {},
   "outputs": [],
   "source": [
    "3. What errors are defined in the ArithmeticError class? Explain any two with an example."
   ]
  },
  {
   "cell_type": "code",
   "execution_count": null,
   "id": "06caf519-7cd7-4999-8ba2-974cbeaf24b9",
   "metadata": {},
   "outputs": [],
   "source": [
    "ANS- In Python, the ArithmeticError class is a built-in exception class that serves as a base class for errors that occur during arithmetic operations. \n",
    "     Some common errors that are defined in the ArithmeticError class include ZeroDivisionError, OverflowError, and FloatingPointError.\n",
    "\n",
    "Here are two examples of errors defined in the ArithmeticError class:\n",
    "\n",
    "    1.ZeroDivisionError: This error is raised when you try to divide a number by zero.\n",
    "      For example, consider the following code:\n",
    "            \n",
    "            x = 5\n",
    "            y = 0\n",
    "            z = x / y\n",
    "            \n",
    "    In this code, the variable y is assigned a value of 0, so when we try to divide x by y, a ZeroDivisionError will be raised. \n",
    "    \n",
    "    2.FloatingPointError: This error is raised when a floating-point operation fails to produce a finite result. \n",
    "      For example, consider the following code:\n",
    "           \n",
    "            import math\n",
    "\n",
    "            x = math.exp(1000)\n",
    "            \n",
    "    In this code, we are using the math.exp() function to calculate the value of e raised to the power of 1000. \n",
    "    However, this value is too large to be represented as a floating-point number, so a FloatingPointError will be raised.\n"
   ]
  },
  {
   "cell_type": "code",
   "execution_count": null,
   "id": "09341984-1365-4002-8061-45aa7396e5ad",
   "metadata": {},
   "outputs": [],
   "source": [
    "4. Why LookupError class is used? Explain with an example KeyError and IndexError."
   ]
  },
  {
   "cell_type": "code",
   "execution_count": null,
   "id": "47078579-7162-4ad8-8af7-96734b1e73c7",
   "metadata": {},
   "outputs": [],
   "source": [
    "ANS- Lookup Error acts as a base class for the exceptions that occur when a key or index used on a mapping or sequence of a \n",
    "     list/dictionary is invalid or does not exists.\n",
    "\n",
    "     The two types of exceptions raised are:\n",
    "\n",
    "        1.IndexError-When you are trying to access an index (sequence) of a list that does not exist in that list or is out of range of that list, \n",
    "                     an index error is raised.\n",
    "#Example for IndexError\n",
    "            \n",
    "try:  \n",
    "    a = ['a', 'b', 'c']  \n",
    "    print (a[4])  \n",
    "except LookupError:  \n",
    "    print (\"Index Error Exception Raised, list index out of range\")\n",
    "else:  \n",
    "    print (\"Success, no error!\")\n",
    "\n",
    "        \n",
    "        2.KeyError- If a key you are trying to access is not found in the dictionary, a key error exception is raised.\n",
    "        \n",
    "#Example for KeyError\n",
    "\n",
    "try:  \n",
    "    a = {1:'a', 2:'b', 3:'c'}  \n",
    "    print (a[4])  \n",
    "except LookupError:  \n",
    "    print (\"Key Error Exception Raised.\")\n",
    "else:  \n",
    "    print (\"Success, no error!\")\n",
    "\n",
    "        \n",
    "    In both cases, an error occurred when trying to access a key or index that does not exist in the dictionary or list. \n",
    "    Since both KeyError and IndexError are subclasses of LookupError, we can use LookupError to catch either one."
   ]
  },
  {
   "cell_type": "code",
   "execution_count": null,
   "id": "2cda7b33-06cf-4650-83eb-7a6fa4c70ec2",
   "metadata": {},
   "outputs": [],
   "source": [
    "5. Explain ImportError. What is ModuleNotFoundError?"
   ]
  },
  {
   "cell_type": "code",
   "execution_count": null,
   "id": "1ce7e162-7c58-4704-b062-02702844eef3",
   "metadata": {},
   "outputs": [],
   "source": [
    "ANS- ImportError is a built-in Python exception that is raised when an imported module, package, or name cannot be found or loaded. \n",
    "     It indicates that an error has occurred while importing a module or package in Python.\n",
    "\n",
    "    An ImportError can occur for various reasons, including:\n",
    "        1.The module or package name is misspelled or does not exist.\n",
    "        2.The module or package is not installed.\n",
    "        3.The module or package is installed in a different location than expected.\n",
    "        4.There are version compatibility issues with the module or package being imported and the current Python environment.\n",
    "        \n",
    "        \n",
    "    ModuleNotFoundError is a specific type of ImportError that is raised when an imported module, package, or name cannot be found or loaded in Python. \n",
    "    It was introduced in Python 3.6 as a more specific error to indicate that the module, package, or name being imported could not be found.\n",
    "\n",
    "The primary difference between ModuleNotFoundError and ImportError is that ModuleNotFoundError specifically indicates that the module or package \n",
    "being imported was not found, while ImportError is a more general exception that can be raised for various import-related errors.   "
   ]
  },
  {
   "cell_type": "code",
   "execution_count": null,
   "id": "b7f602f4-8b33-4440-9d9f-44c9f059d284",
   "metadata": {},
   "outputs": [],
   "source": [
    "6. List down some best practices for exception handling in python."
   ]
  },
  {
   "cell_type": "code",
   "execution_count": null,
   "id": "b962997b-5c07-4c6d-bb45-7b4937209fcf",
   "metadata": {},
   "outputs": [],
   "source": [
    "ANS- 1. Use always a specific exception\n",
    "     2. Print always a proper message\n",
    "     3. Always try to log your error\n",
    "    4.  Always avoid to write a multiple exception handling\n",
    "     5. Document all the error\n",
    "    6.  Cleanup all the resources   "
   ]
  }
 ],
 "metadata": {
  "kernelspec": {
   "display_name": "Python 3 (ipykernel)",
   "language": "python",
   "name": "python3"
  },
  "language_info": {
   "codemirror_mode": {
    "name": "ipython",
    "version": 3
   },
   "file_extension": ".py",
   "mimetype": "text/x-python",
   "name": "python",
   "nbconvert_exporter": "python",
   "pygments_lexer": "ipython3",
   "version": "3.10.8"
  }
 },
 "nbformat": 4,
 "nbformat_minor": 5
}
